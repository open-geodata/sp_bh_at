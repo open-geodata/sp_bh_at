{
 "cells": [
  {
   "cell_type": "markdown",
   "id": "c234657b-c5ca-4fe9-a257-b5b6a43a6fa1",
   "metadata": {},
   "source": [
    "<br>\n",
    "\n",
    "# Introdução\n",
    "\n",
    "Extrai os arquivos baixados em .rar e transforma em .gpkg"
   ]
  },
  {
   "cell_type": "code",
   "execution_count": null,
   "id": "869dd616-30e1-46c5-b9cd-83c272463a36",
   "metadata": {},
   "outputs": [],
   "source": [
    "#!pip3 install rarfile --upgrade"
   ]
  },
  {
   "cell_type": "code",
   "execution_count": null,
   "id": "daddc11c-3ec0-4786-bedb-7dc0837a4edf",
   "metadata": {},
   "outputs": [],
   "source": [
    "import os\n",
    "import time\n",
    "import shutil\n",
    "import geopandas as gpd\n",
    "from rarfile import RarFile"
   ]
  },
  {
   "cell_type": "code",
   "execution_count": null,
   "id": "373e5179-bf9f-4b32-b26f-898a60a20c6b",
   "metadata": {},
   "outputs": [],
   "source": [
    "from paths import *"
   ]
  },
  {
   "cell_type": "code",
   "execution_count": null,
   "id": "de1177e5-3480-4096-81ba-b8396cec8807",
   "metadata": {},
   "outputs": [],
   "source": [
    "list_files = os.listdir(bruto_path)\n",
    "list_files = [x for x in list_files if x.endswith('.rar')]\n",
    "\n",
    "# \n",
    "print(f'Temos {len(list_files)} arquivos .rar')\n",
    "#list_files = list_files[-1:]\n",
    "list_files"
   ]
  },
  {
   "cell_type": "code",
   "execution_count": null,
   "id": "e700a687-c310-41f3-a330-029b6b088cb9",
   "metadata": {},
   "outputs": [],
   "source": [
    "def write_geodata(output_path, filename):\n",
    "    gdf.to_file(\n",
    "        os.path.join(output_path, 'comite_alto_tiete.gpkg'),\n",
    "        layer=f'{filename}',\n",
    "        driver='GPKG'\n",
    "    )\n",
    "\n",
    "    gdf.to_file(\n",
    "        os.path.join(output_path, f'{filename}.gpkg'),\n",
    "        layer=f'{filename}',\n",
    "        driver='GPKG'\n",
    "    )"
   ]
  },
  {
   "cell_type": "code",
   "execution_count": null,
   "id": "2abf63eb-349d-4133-b3df-4f491d32a1c4",
   "metadata": {},
   "outputs": [],
   "source": [
    "def delete_path(path, msg):\n",
    "    os.chmod(path, 0o777)\n",
    "    shutil.rmtree(\n",
    "        path,\n",
    "        onerror=print(msg),\n",
    "        ignore_errors=True,\n",
    "    )"
   ]
  },
  {
   "cell_type": "code",
   "execution_count": null,
   "id": "395ac755-7feb-4b6b-ae04-e37e2fcdb490",
   "metadata": {},
   "outputs": [],
   "source": [
    "def unrar_files(rar_filepath, output_path):\n",
    "    # Unrar data\n",
    "    with RarFile(rar_filepath) as rarObj:\n",
    "        #for f in rarObj.infolist():\n",
    "            #print(f'{f.filename}\\n{f.file_size}\\n{f.is_dir()}\\n{f.is_file()}\\n')\n",
    "        rarObj.extractall(output_path)\n",
    "\n",
    "    # Se extrar pasta, move conteudo da pasta\n",
    "    for root, dirs, files in os.walk(output_path, topdown=False):\n",
    "        for file in files:\n",
    "            try:\n",
    "                shutil.move(os.path.join(root, file), output_path)\n",
    "            except OSError:\n",
    "                pass"
   ]
  },
  {
   "cell_type": "code",
   "execution_count": null,
   "id": "fb925357-4ac5-4cd8-b837-1c61dfca2dee",
   "metadata": {},
   "outputs": [],
   "source": [
    "for file in list_files:\n",
    "    print('-'*40)\n",
    "    print(f'{file}')\n",
    "    rarfile_path = os.path.join(bruto_path, file)\n",
    "\n",
    "    # Set path to work\n",
    "    temp_path = os.path.join(os.path.dirname(rarfile_path), 'temp')\n",
    "    os.makedirs(temp_path, exist_ok=True)\n",
    "    \n",
    "    # Delete Path\n",
    "    delete_path(temp_path, '')\n",
    "    \n",
    "    # Unrar data\n",
    "    unrar_files(rarfile_path, temp_path)\n",
    "  \n",
    "    # Get list of shapefiles\n",
    "    list_shps = [x for x in os.listdir(temp_path) if x.endswith('.shp')]\n",
    "    #print(list_shps)\n",
    "\n",
    "    if len(list_shps) == 1:\n",
    "        # Shapefile\n",
    "        shp_file = list_shps[0]\n",
    "        #print(shp_file)\n",
    "        \n",
    "        # Set name for output\n",
    "        shp_file_out = shp_file.replace('.shp', '').lower()\n",
    "        print(shp_file_out)\n",
    "        \n",
    "        # Read Shapefile\n",
    "        if shp_file_out == '45_subbacias': \n",
    "            gdf = gpd.read_file(\n",
    "                os.path.join(temp_path, shp_file),\n",
    "                encoding='ISO-8859-1',\n",
    "            ).to_crs(epsg=4326)\n",
    "            dict_fix = {\n",
    "                'CrÃ\\xadtica': 'Crítica',\n",
    "                'NÃ£o CrÃ\\xadtica': 'Não Crítica',\n",
    "                'Sem ClassificaÃ§Ã£o': 'Sem Classificação'\n",
    "            }\n",
    "            gdf.replace(\n",
    "                {\n",
    "                    'Crit_IQA': dict_fix,\n",
    "                    'Crit_Uso': dict_fix,\n",
    "                    'IAP': dict_fix,\n",
    "                    'IVA': dict_fix,\n",
    "                    'OD': dict_fix,\n",
    "                },\n",
    "                inplace=True\n",
    "            )            \n",
    "            \n",
    "        else:\n",
    "            gdf = gpd.read_file(\n",
    "                os.path.join(temp_path, shp_file),\n",
    "            ).to_crs(epsg=4326)\n",
    "            \n",
    "        # Write data\n",
    "        write_geodata(output_path_geo, shp_file_out)\n",
    "\n",
    "        # Delete Path\n",
    "        delete_path(temp_path, 'Erro pra Deletar!')\n",
    "        time.sleep(0.5)\n",
    "\n",
    "    else:\n",
    "        print('deu ruim!!!')\n",
    "    print('   ')"
   ]
  }
 ],
 "metadata": {
  "kernelspec": {
   "display_name": "Python [conda env:pablocarreira-py39] *",
   "language": "python",
   "name": "conda-env-pablocarreira-py39-py"
  },
  "language_info": {
   "codemirror_mode": {
    "name": "ipython",
    "version": 3
   },
   "file_extension": ".py",
   "mimetype": "text/x-python",
   "name": "python",
   "nbconvert_exporter": "python",
   "pygments_lexer": "ipython3",
   "version": "3.9.12"
  }
 },
 "nbformat": 4,
 "nbformat_minor": 5
}
