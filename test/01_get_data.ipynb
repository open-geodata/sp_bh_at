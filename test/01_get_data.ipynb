{
 "cells": [
  {
   "cell_type": "markdown",
   "id": "6907e6b7-f267-4fd0-b01d-32d294a1850e",
   "metadata": {},
   "source": [
    "<br>\n",
    "\n",
    "# Introdução"
   ]
  },
  {
   "cell_type": "code",
   "execution_count": null,
   "id": "522f6f63-973a-4083-a429-ad3a77a7d999",
   "metadata": {},
   "outputs": [],
   "source": [
    "#!pip3 install traquitanas --upgrade"
   ]
  },
  {
   "cell_type": "code",
   "execution_count": null,
   "id": "1a722e06-e6cf-4bab-b523-f4049d8ea70e",
   "metadata": {},
   "outputs": [],
   "source": [
    "import os"
   ]
  },
  {
   "cell_type": "code",
   "execution_count": null,
   "id": "a26eaa23-c70a-4178-83a5-583f9e35c9fa",
   "metadata": {},
   "outputs": [],
   "source": [
    "from selenium.webdriver.common.by import By\n",
    "from selenium.webdriver.support.ui import Select\n",
    "from selenium.webdriver.support.ui import WebDriverWait\n",
    "from selenium.webdriver.support import expected_conditions as EC"
   ]
  },
  {
   "cell_type": "code",
   "execution_count": null,
   "id": "ecc25088-e5be-4511-b241-78009d8d2056",
   "metadata": {},
   "outputs": [],
   "source": [
    "from traquitanas import net"
   ]
  },
  {
   "cell_type": "code",
   "execution_count": null,
   "id": "6194113b-85ab-428b-a890-f32fa8cd1680",
   "metadata": {},
   "outputs": [],
   "source": [
    "from paths import *"
   ]
  },
  {
   "cell_type": "code",
   "execution_count": null,
   "id": "dd199b1a-8eda-4c71-bfa7-2639d9f12df5",
   "metadata": {},
   "outputs": [],
   "source": [
    "download_path = os.path.abspath(os.path.join(os.getcwd(), bruto_path))\n",
    "print(download_path)\n",
    "\n",
    "driver = net.scraping.create_driver(\n",
    "    download_path,\n",
    "    headless=False,\n",
    "    adds_path=os.path.join('..', 'scrapy', 'adds'),\n",
    "    log_path=os.path.join('..', 'scrapy', 'logs')\n",
    ")"
   ]
  },
  {
   "cell_type": "code",
   "execution_count": null,
   "id": "9334f225-07d3-45d5-a1ed-3f5e38a43416",
   "metadata": {},
   "outputs": [],
   "source": [
    "# Vai pra site \"Aplicações\"\n",
    "url = 'https://comiteat.sp.gov.br/a-bacia/shapefiles/'\n",
    "driver.get(url)"
   ]
  },
  {
   "cell_type": "code",
   "execution_count": null,
   "id": "76935f53-50c3-4c34-bad4-4eb59ff22b16",
   "metadata": {},
   "outputs": [],
   "source": [
    "def pega_links():\n",
    "    tag = '//*[@class=\"vc_tta-panel vc_active\"]'\n",
    "    WebDriverWait(driver, 80).until(\n",
    "        EC.visibility_of_element_located(\n",
    "            (By.XPATH, tag)\n",
    "        ))\n",
    "    \n",
    "    # Chega no Painel\n",
    "    painel = driver.find_element(by=By.XPATH, value=tag)\n",
    "    painel = painel.find_element(by=By.XPATH, value=\".//*[@class='wpb_wrapper']\")\n",
    "\n",
    "    # Pega Elementos dos Links\n",
    "    links = painel.find_elements(by=By.XPATH, value='.//a[@href]')\n",
    "\n",
    "    # Pega Links\n",
    "    list_links = []\n",
    "    for link in links:\n",
    "        url_shp = link.get_attribute('href')\n",
    "        link.click()\n",
    "        #print(url_shp)\n",
    "        #print(link.text)\n",
    "        list_links.append(url_shp)\n",
    "        \n",
    "    return list_links"
   ]
  },
  {
   "cell_type": "code",
   "execution_count": null,
   "id": "07e3dbdc-40ea-4397-a618-131b9348c1b4",
   "metadata": {},
   "outputs": [],
   "source": [
    "list_links_down = []"
   ]
  },
  {
   "cell_type": "code",
   "execution_count": null,
   "id": "fc63e822-6d1c-4b58-99e1-fca57c2f046f",
   "metadata": {},
   "outputs": [],
   "source": [
    "driver.find_element(by=By.XPATH, value=\"//*[text()='Hídrica']\").click()\n",
    "list_links_down.extend(pega_links())"
   ]
  },
  {
   "cell_type": "code",
   "execution_count": null,
   "id": "21761548-eddc-412b-a068-c9e6988efb44",
   "metadata": {},
   "outputs": [],
   "source": [
    "driver.find_element(by=By.XPATH, value=\"//*[text()='Limites']\").click()\n",
    "list_links_down.extend(pega_links())"
   ]
  },
  {
   "cell_type": "code",
   "execution_count": null,
   "id": "55a5339e-a4be-4c49-9bbc-7c9b8c1f6835",
   "metadata": {},
   "outputs": [],
   "source": [
    "driver.find_element(by=By.XPATH, value=\"//*[text()='Uso do Solo']\").click()\n",
    "list_links_down.extend(pega_links())"
   ]
  },
  {
   "cell_type": "code",
   "execution_count": null,
   "id": "02e5b807-2321-470d-beff-1abff5b54ac4",
   "metadata": {},
   "outputs": [],
   "source": [
    "list_links_down = list(set(list_links_down))\n",
    "list_links_down"
   ]
  },
  {
   "cell_type": "code",
   "execution_count": null,
   "id": "cab30560-2ca4-44d8-bf52-9cd6b782cb21",
   "metadata": {},
   "outputs": [],
   "source": [
    "driver.quit()"
   ]
  }
 ],
 "metadata": {
  "kernelspec": {
   "display_name": "Python [conda env:pablocarreira-py39] *",
   "language": "python",
   "name": "conda-env-pablocarreira-py39-py"
  },
  "language_info": {
   "codemirror_mode": {
    "name": "ipython",
    "version": 3
   },
   "file_extension": ".py",
   "mimetype": "text/x-python",
   "name": "python",
   "nbconvert_exporter": "python",
   "pygments_lexer": "ipython3",
   "version": "3.9.12"
  }
 },
 "nbformat": 4,
 "nbformat_minor": 5
}
